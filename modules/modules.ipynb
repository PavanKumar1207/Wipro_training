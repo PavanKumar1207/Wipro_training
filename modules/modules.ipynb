{
 "cells": [
  {
   "cell_type": "markdown",
   "id": "0a76f781",
   "metadata": {},
   "source": [
    "## PYTHON MODULES"
   ]
  },
  {
   "cell_type": "markdown",
   "id": "f95137b9",
   "metadata": {},
   "source": [
    "### math"
   ]
  },
  {
   "cell_type": "code",
   "execution_count": 1,
   "id": "d6dd47f0",
   "metadata": {},
   "outputs": [
    {
     "name": "stdout",
     "output_type": "stream",
     "text": [
      "Square root 2.23606797749979\n",
      "Factorial root 120\n",
      "Pi: 3.141592653589793\n",
      "Pi*2: 6.283185307179586\n"
     ]
    }
   ],
   "source": [
    "import math\n",
    "num = int(input(\"Enter number:\"))\n",
    "print(\"Square root\",math.sqrt(num))\n",
    "print(\"Factorial root\",math.factorial(num))\n",
    "print(\"Pi:\",math.pi)\n",
    "\n",
    "print(\"Pi*2:\",math.pi*2)"
   ]
  },
  {
   "cell_type": "markdown",
   "id": "018cfb23",
   "metadata": {},
   "source": [
    "### random"
   ]
  },
  {
   "cell_type": "code",
   "execution_count": 3,
   "id": "9068128f",
   "metadata": {},
   "outputs": [
    {
     "name": "stdout",
     "output_type": "stream",
     "text": [
      "3\n"
     ]
    }
   ],
   "source": [
    "import random\n",
    "print(random.randint(1,10))"
   ]
  },
  {
   "cell_type": "code",
   "execution_count": 4,
   "id": "d6a47d2c",
   "metadata": {},
   "outputs": [
    {
     "name": "stdout",
     "output_type": "stream",
     "text": [
      "0.5596479969793777\n"
     ]
    }
   ],
   "source": [
    "print(random.random())"
   ]
  },
  {
   "cell_type": "code",
   "execution_count": 8,
   "id": "8fce11ce",
   "metadata": {},
   "outputs": [
    {
     "name": "stdout",
     "output_type": "stream",
     "text": [
      "6.172696591399075\n"
     ]
    }
   ],
   "source": [
    "print(random.uniform(1,10))"
   ]
  },
  {
   "cell_type": "code",
   "execution_count": 17,
   "id": "7db4e6a8",
   "metadata": {},
   "outputs": [
    {
     "name": "stdout",
     "output_type": "stream",
     "text": [
      "1\n"
     ]
    }
   ],
   "source": [
    "print(random.choice([1,2,3,5,6,7]))"
   ]
  },
  {
   "cell_type": "code",
   "execution_count": 131,
   "id": "1e884ef4",
   "metadata": {},
   "outputs": [
    {
     "name": "stdout",
     "output_type": "stream",
     "text": [
      "['bravo', 'bravo']\n"
     ]
    }
   ],
   "source": [
    "print(random.choices([\"bravo\",\"shanmukh\",\"shannu\"], cum_weights=[0.95,0.05,0.05],k=2))"
   ]
  },
  {
   "cell_type": "code",
   "execution_count": 132,
   "id": "8dfbb5c4",
   "metadata": {},
   "outputs": [
    {
     "name": "stdout",
     "output_type": "stream",
     "text": [
      "before shuffle: [1, 2, 3, 4, 5, 6, 7, 8, 9]\n",
      "After shuffle: [1, 6, 9, 8, 2, 7, 5, 4, 3]\n"
     ]
    }
   ],
   "source": [
    "li=[i for i in range(1,10)]\n",
    "print(f'before shuffle: {li}')\n",
    "random.shuffle(li)\n",
    "print(f'After shuffle: {li}')"
   ]
  },
  {
   "cell_type": "markdown",
   "id": "766b5e37",
   "metadata": {},
   "source": [
    "### datetime"
   ]
  },
  {
   "cell_type": "code",
   "execution_count": 1,
   "id": "39f10af0",
   "metadata": {},
   "outputs": [
    {
     "name": "stdout",
     "output_type": "stream",
     "text": [
      "Current datetime 2025-06-30 11:44:37.270147\n"
     ]
    }
   ],
   "source": [
    "from datetime import datetime, date, timedelta\n",
    "\n",
    "now = datetime.now()\n",
    "print(\"Current datetime\",now)"
   ]
  },
  {
   "cell_type": "code",
   "execution_count": 2,
   "id": "7b0622fe",
   "metadata": {},
   "outputs": [
    {
     "name": "stdout",
     "output_type": "stream",
     "text": [
      "Today's date 2025-06-30\n"
     ]
    }
   ],
   "source": [
    "print(\"Today's date\",date.today())"
   ]
  },
  {
   "cell_type": "code",
   "execution_count": 3,
   "id": "51509380",
   "metadata": {},
   "outputs": [
    {
     "name": "stdout",
     "output_type": "stream",
     "text": [
      "Formatted datetime:  30-06-2025\n"
     ]
    }
   ],
   "source": [
    "formatted = now.strftime(\"%d-%m-%Y\")\n",
    "print(\"Formatted datetime: \", formatted)\n",
    "\n"
   ]
  },
  {
   "cell_type": "code",
   "execution_count": null,
   "id": "9064de49",
   "metadata": {},
   "outputs": [
    {
     "name": "stdout",
     "output_type": "stream",
     "text": [
      "Formatted datetime:  30-06-2025 11:44:37\n"
     ]
    }
   ],
   "source": [
    "formatted = now.strftime(\"%d-%m-%Y %H:%M:%S\")\n",
    "print(\"Formatted datetime: \", formatted)"
   ]
  },
  {
   "cell_type": "code",
   "execution_count": 9,
   "id": "81812433",
   "metadata": {},
   "outputs": [
    {
     "name": "stdout",
     "output_type": "stream",
     "text": [
      "Parsed data: 2000-12-24 12:33:43\n"
     ]
    }
   ],
   "source": [
    "date_str = \"24-12-2000 12:33:43\"\n",
    "parsed = datetime.strptime(date_str, \"%d-%m-%Y %H:%M:%S\")\n",
    "print(\"Parsed data:\",parsed)"
   ]
  },
  {
   "cell_type": "code",
   "execution_count": 11,
   "id": "e238522f",
   "metadata": {},
   "outputs": [
    {
     "name": "stdout",
     "output_type": "stream",
     "text": [
      "Tomorrow 2025-07-01 11:44:37.270147\n"
     ]
    }
   ],
   "source": [
    "tomorrow =  now+timedelta(days=1)\n",
    "print(\"Tomorrow\",tomorrow)"
   ]
  },
  {
   "cell_type": "code",
   "execution_count": 12,
   "id": "4c236bf8",
   "metadata": {},
   "outputs": [
    {
     "name": "stdout",
     "output_type": "stream",
     "text": [
      "Yesterday 2025-06-29 11:44:37.270147\n"
     ]
    }
   ],
   "source": [
    "yesterday = now-timedelta(days=1)\n",
    "print(\"Yesterday\",yesterday)"
   ]
  },
  {
   "cell_type": "code",
   "execution_count": 13,
   "id": "da5d63e6",
   "metadata": {},
   "outputs": [
    {
     "name": "stdout",
     "output_type": "stream",
     "text": [
      "After 3.5 hrs: 2025-06-30 15:14:37.270147\n"
     ]
    }
   ],
   "source": [
    "ftime = now+timedelta(hours=3,minutes=30)\n",
    "print(\"After 3.5 hrs:\",ftime)"
   ]
  },
  {
   "cell_type": "code",
   "execution_count": 20,
   "id": "9b5a2530",
   "metadata": {},
   "outputs": [
    {
     "name": "stdout",
     "output_type": "stream",
     "text": [
      "30 17 2025 15:17:42 PM\n"
     ]
    }
   ],
   "source": [
    "noww = datetime.now()+ timedelta(hours=3)\n",
    "format_hrs= noww.strftime(\"%d %M %Y %H:%M:%S %p\")\n",
    "print(format_hrs)"
   ]
  },
  {
   "cell_type": "markdown",
   "id": "a49a6738",
   "metadata": {},
   "source": [
    "### OS"
   ]
  },
  {
   "cell_type": "code",
   "execution_count": 1,
   "id": "5ab17201",
   "metadata": {},
   "outputs": [],
   "source": [
    "import os\n",
    "folder = input(\"Enter folder name to create\")\n",
    "if not os.path.exists(folder):\n",
    "    os.mkdir(folder)"
   ]
  },
  {
   "cell_type": "markdown",
   "id": "fdc8ff18",
   "metadata": {},
   "source": [
    "### itertools"
   ]
  },
  {
   "cell_type": "code",
   "execution_count": 2,
   "id": "a43249ee",
   "metadata": {},
   "outputs": [
    {
     "name": "stdout",
     "output_type": "stream",
     "text": [
      "All permutation\n",
      "[('1', '2', '3', '4', '5'), ('1', '2', '3', '5', '4'), ('1', '2', '4', '3', '5'), ('1', '2', '4', '5', '3'), ('1', '2', '5', '3', '4'), ('1', '2', '5', '4', '3'), ('1', '3', '2', '4', '5'), ('1', '3', '2', '5', '4'), ('1', '3', '4', '2', '5'), ('1', '3', '4', '5', '2'), ('1', '3', '5', '2', '4'), ('1', '3', '5', '4', '2'), ('1', '4', '2', '3', '5'), ('1', '4', '2', '5', '3'), ('1', '4', '3', '2', '5'), ('1', '4', '3', '5', '2'), ('1', '4', '5', '2', '3'), ('1', '4', '5', '3', '2'), ('1', '5', '2', '3', '4'), ('1', '5', '2', '4', '3'), ('1', '5', '3', '2', '4'), ('1', '5', '3', '4', '2'), ('1', '5', '4', '2', '3'), ('1', '5', '4', '3', '2'), ('2', '1', '3', '4', '5'), ('2', '1', '3', '5', '4'), ('2', '1', '4', '3', '5'), ('2', '1', '4', '5', '3'), ('2', '1', '5', '3', '4'), ('2', '1', '5', '4', '3'), ('2', '3', '1', '4', '5'), ('2', '3', '1', '5', '4'), ('2', '3', '4', '1', '5'), ('2', '3', '4', '5', '1'), ('2', '3', '5', '1', '4'), ('2', '3', '5', '4', '1'), ('2', '4', '1', '3', '5'), ('2', '4', '1', '5', '3'), ('2', '4', '3', '1', '5'), ('2', '4', '3', '5', '1'), ('2', '4', '5', '1', '3'), ('2', '4', '5', '3', '1'), ('2', '5', '1', '3', '4'), ('2', '5', '1', '4', '3'), ('2', '5', '3', '1', '4'), ('2', '5', '3', '4', '1'), ('2', '5', '4', '1', '3'), ('2', '5', '4', '3', '1'), ('3', '1', '2', '4', '5'), ('3', '1', '2', '5', '4'), ('3', '1', '4', '2', '5'), ('3', '1', '4', '5', '2'), ('3', '1', '5', '2', '4'), ('3', '1', '5', '4', '2'), ('3', '2', '1', '4', '5'), ('3', '2', '1', '5', '4'), ('3', '2', '4', '1', '5'), ('3', '2', '4', '5', '1'), ('3', '2', '5', '1', '4'), ('3', '2', '5', '4', '1'), ('3', '4', '1', '2', '5'), ('3', '4', '1', '5', '2'), ('3', '4', '2', '1', '5'), ('3', '4', '2', '5', '1'), ('3', '4', '5', '1', '2'), ('3', '4', '5', '2', '1'), ('3', '5', '1', '2', '4'), ('3', '5', '1', '4', '2'), ('3', '5', '2', '1', '4'), ('3', '5', '2', '4', '1'), ('3', '5', '4', '1', '2'), ('3', '5', '4', '2', '1'), ('4', '1', '2', '3', '5'), ('4', '1', '2', '5', '3'), ('4', '1', '3', '2', '5'), ('4', '1', '3', '5', '2'), ('4', '1', '5', '2', '3'), ('4', '1', '5', '3', '2'), ('4', '2', '1', '3', '5'), ('4', '2', '1', '5', '3'), ('4', '2', '3', '1', '5'), ('4', '2', '3', '5', '1'), ('4', '2', '5', '1', '3'), ('4', '2', '5', '3', '1'), ('4', '3', '1', '2', '5'), ('4', '3', '1', '5', '2'), ('4', '3', '2', '1', '5'), ('4', '3', '2', '5', '1'), ('4', '3', '5', '1', '2'), ('4', '3', '5', '2', '1'), ('4', '5', '1', '2', '3'), ('4', '5', '1', '3', '2'), ('4', '5', '2', '1', '3'), ('4', '5', '2', '3', '1'), ('4', '5', '3', '1', '2'), ('4', '5', '3', '2', '1'), ('5', '1', '2', '3', '4'), ('5', '1', '2', '4', '3'), ('5', '1', '3', '2', '4'), ('5', '1', '3', '4', '2'), ('5', '1', '4', '2', '3'), ('5', '1', '4', '3', '2'), ('5', '2', '1', '3', '4'), ('5', '2', '1', '4', '3'), ('5', '2', '3', '1', '4'), ('5', '2', '3', '4', '1'), ('5', '2', '4', '1', '3'), ('5', '2', '4', '3', '1'), ('5', '3', '1', '2', '4'), ('5', '3', '1', '4', '2'), ('5', '3', '2', '1', '4'), ('5', '3', '2', '4', '1'), ('5', '3', '4', '1', '2'), ('5', '3', '4', '2', '1'), ('5', '4', '1', '2', '3'), ('5', '4', '1', '3', '2'), ('5', '4', '2', '1', '3'), ('5', '4', '2', '3', '1'), ('5', '4', '3', '1', '2'), ('5', '4', '3', '2', '1')]\n"
     ]
    }
   ],
   "source": [
    "import itertools \n",
    "data = input(\"Enter Characters:\")\n",
    "permute = list(itertools.permutations(data))\n",
    "print(\"All permutation\")\n",
    "print(permute)"
   ]
  },
  {
   "cell_type": "markdown",
   "id": "2f360119",
   "metadata": {},
   "source": [
    "### Exceptions"
   ]
  },
  {
   "cell_type": "code",
   "execution_count": 2,
   "id": "812243cc",
   "metadata": {},
   "outputs": [
    {
     "name": "stdout",
     "output_type": "stream",
     "text": [
      "Check the datatype of the input you given\n"
     ]
    }
   ],
   "source": [
    "try:\n",
    "    num=int(input(\"enter the number\"))\n",
    "except ValueError:\n",
    "    print(\"Check the datatype of the input you given\")\n",
    "except KeyboardInterrupt:\n",
    "    print(\"Number should be entered\")"
   ]
  },
  {
   "cell_type": "code",
   "execution_count": 3,
   "id": "cf11cff9",
   "metadata": {},
   "outputs": [],
   "source": [
    "with open(\"temp.txt\",'w') as f:\n",
    "    f.write(\"Hello!!!\")    "
   ]
  },
  {
   "cell_type": "code",
   "execution_count": null,
   "id": "ded4d031",
   "metadata": {},
   "outputs": [
    {
     "name": "stdout",
     "output_type": "stream",
     "text": [
      "Error loading the file\n"
     ]
    }
   ],
   "source": [
    "## file is not there\n",
    "try:\n",
    "    file=open(\"tempp.txt\",\"r\")\n",
    "    str=file.readlines()\n",
    "except IOError:\n",
    "    print(\"Error loading the file\")\n",
    "else:\n",
    "    print('Loaded successfully')\n"
   ]
  },
  {
   "cell_type": "code",
   "execution_count": 6,
   "id": "b445ec16",
   "metadata": {},
   "outputs": [
    {
     "name": "stdout",
     "output_type": "stream",
     "text": [
      "Raising Exception\n",
      "done\n"
     ]
    },
    {
     "ename": "ValueError",
     "evalue": "Wrong",
     "output_type": "error",
     "traceback": [
      "\u001b[1;31m---------------------------------------------------------------------------\u001b[0m",
      "\u001b[1;31mValueError\u001b[0m                                Traceback (most recent call last)",
      "Cell \u001b[1;32mIn[6], line 3\u001b[0m\n\u001b[0;32m      1\u001b[0m \u001b[38;5;28;01mtry\u001b[39;00m:\n\u001b[0;32m      2\u001b[0m     \u001b[38;5;28mprint\u001b[39m(\u001b[38;5;124m\"\u001b[39m\u001b[38;5;124mRaising Exception\u001b[39m\u001b[38;5;124m\"\u001b[39m)\n\u001b[1;32m----> 3\u001b[0m     \u001b[38;5;28;01mraise\u001b[39;00m \u001b[38;5;167;01mValueError\u001b[39;00m(\u001b[38;5;124m\"\u001b[39m\u001b[38;5;124mWrong\u001b[39m\u001b[38;5;124m\"\u001b[39m)\n\u001b[0;32m      4\u001b[0m \u001b[38;5;28;01mfinally\u001b[39;00m:\n\u001b[0;32m      5\u001b[0m     \u001b[38;5;28mprint\u001b[39m(\u001b[38;5;124m\"\u001b[39m\u001b[38;5;124mdone\u001b[39m\u001b[38;5;124m\"\u001b[39m)\n",
      "\u001b[1;31mValueError\u001b[0m: Wrong"
     ]
    }
   ],
   "source": [
    "try:\n",
    "    print(\"Raising Exception\")\n",
    "    raise ValueError(\"Wrong\")\n",
    "finally:\n",
    "    print(\"done\")"
   ]
  },
  {
   "cell_type": "code",
   "execution_count": 11,
   "id": "80319c7b",
   "metadata": {},
   "outputs": [],
   "source": [
    "def display():\n",
    "    n=0\n",
    "    while True:\n",
    "        try:\n",
    "            n+=1\n",
    "            if n==21:\n",
    "                raise StopIteration\n",
    "        except StopIteration:\n",
    "            break\n",
    "        else:\n",
    "            print(n,end=' ')"
   ]
  },
  {
   "cell_type": "code",
   "execution_count": 12,
   "id": "70f2b675",
   "metadata": {},
   "outputs": [
    {
     "name": "stdout",
     "output_type": "stream",
     "text": [
      "1 2 3 4 5 6 7 8 9 10 11 12 13 14 15 16 17 18 19 20 "
     ]
    }
   ],
   "source": [
    "display()"
   ]
  },
  {
   "cell_type": "code",
   "execution_count": null,
   "id": "00efec80",
   "metadata": {},
   "outputs": [],
   "source": [
    "import random\n",
    "class RError(Exception):\n",
    "    pass\n",
    "try:\n",
    "    num=random.random()\n",
    "    if num<0.1:\n",
    "        raise RError\n",
    "except RError:\n",
    "    print(\"Raise custom RError\")\n",
    "else:\n",
    "    print(\"%.2f\")"
   ]
  },
  {
   "cell_type": "markdown",
   "id": "19453f4f",
   "metadata": {},
   "source": [
    "### Calender"
   ]
  },
  {
   "cell_type": "code",
   "execution_count": 29,
   "id": "2f9625e0",
   "metadata": {},
   "outputs": [
    {
     "name": "stdout",
     "output_type": "stream",
     "text": [
      "   February 2004\n",
      "Mo Tu We Th Fr Sa Su\n",
      "                   1\n",
      " 2  3  4  5  6  7  8\n",
      " 9 10 11 12 13 14 15\n",
      "16 17 18 19 20 21 22\n",
      "23 24 25 26 27 28 29\n",
      "\n"
     ]
    }
   ],
   "source": [
    "from calendar import *\n",
    "year = int(input(\"Enter the year number: \"))\n",
    "Month = int(input(\"Enter the month: \"))\n",
    "str = month(year,Month)\n",
    "print(str)"
   ]
  },
  {
   "cell_type": "code",
   "execution_count": 26,
   "id": "559de8c2",
   "metadata": {},
   "outputs": [
    {
     "name": "stdout",
     "output_type": "stream",
     "text": [
      "                                                               2025\n",
      "\n",
      "      January               February               March                 April                  May                   June\n",
      "Mo Tu We Th Fr Sa Su  Mo Tu We Th Fr Sa Su  Mo Tu We Th Fr Sa Su  Mo Tu We Th Fr Sa Su  Mo Tu We Th Fr Sa Su  Mo Tu We Th Fr Sa Su\n",
      "       1  2  3  4  5                  1  2                  1  2      1  2  3  4  5  6            1  2  3  4                     1\n",
      " 6  7  8  9 10 11 12   3  4  5  6  7  8  9   3  4  5  6  7  8  9   7  8  9 10 11 12 13   5  6  7  8  9 10 11   2  3  4  5  6  7  8\n",
      "13 14 15 16 17 18 19  10 11 12 13 14 15 16  10 11 12 13 14 15 16  14 15 16 17 18 19 20  12 13 14 15 16 17 18   9 10 11 12 13 14 15\n",
      "20 21 22 23 24 25 26  17 18 19 20 21 22 23  17 18 19 20 21 22 23  21 22 23 24 25 26 27  19 20 21 22 23 24 25  16 17 18 19 20 21 22\n",
      "27 28 29 30 31        24 25 26 27 28        24 25 26 27 28 29 30  28 29 30              26 27 28 29 30 31     23 24 25 26 27 28 29\n",
      "                                            31                                                                30\n",
      "\n",
      "        July                 August              September              October               November              December\n",
      "Mo Tu We Th Fr Sa Su  Mo Tu We Th Fr Sa Su  Mo Tu We Th Fr Sa Su  Mo Tu We Th Fr Sa Su  Mo Tu We Th Fr Sa Su  Mo Tu We Th Fr Sa Su\n",
      "    1  2  3  4  5  6               1  2  3   1  2  3  4  5  6  7         1  2  3  4  5                  1  2   1  2  3  4  5  6  7\n",
      " 7  8  9 10 11 12 13   4  5  6  7  8  9 10   8  9 10 11 12 13 14   6  7  8  9 10 11 12   3  4  5  6  7  8  9   8  9 10 11 12 13 14\n",
      "14 15 16 17 18 19 20  11 12 13 14 15 16 17  15 16 17 18 19 20 21  13 14 15 16 17 18 19  10 11 12 13 14 15 16  15 16 17 18 19 20 21\n",
      "21 22 23 24 25 26 27  18 19 20 21 22 23 24  22 23 24 25 26 27 28  20 21 22 23 24 25 26  17 18 19 20 21 22 23  22 23 24 25 26 27 28\n",
      "28 29 30 31           25 26 27 28 29 30 31  29 30                 27 28 29 30 31        24 25 26 27 28 29 30  29 30 31\n",
      "\n"
     ]
    }
   ],
   "source": [
    "import calendar\n",
    "print(calendar.calendar(2025,2,1,1,6))"
   ]
  },
  {
   "cell_type": "code",
   "execution_count": 28,
   "id": "cc17ded6",
   "metadata": {},
   "outputs": [
    {
     "data": {
      "text/plain": [
       "True"
      ]
     },
     "execution_count": 28,
     "metadata": {},
     "output_type": "execute_result"
    }
   ],
   "source": [
    "calendar.isleap(2004)"
   ]
  },
  {
   "cell_type": "code",
   "execution_count": 30,
   "id": "d06ab346",
   "metadata": {},
   "outputs": [
    {
     "name": "stdout",
     "output_type": "stream",
     "text": [
      "2025-07-04\n",
      "2025-07-05\n",
      "2025-07-06\n",
      "2025-07-07\n",
      "2025-07-08\n",
      "2025-07-09\n",
      "2025-07-10\n",
      "2025-07-11\n",
      "2025-07-12\n",
      "2025-07-13\n"
     ]
    }
   ],
   "source": [
    "from datetime import *\n",
    "d = date.today()\n",
    "print(d)\n",
    "for x in range(1,10):\n",
    "    nextdate = d+timedelta(days=x)\n",
    "    print(nextdate)"
   ]
  },
  {
   "cell_type": "code",
   "execution_count": 31,
   "id": "6dbf01a0",
   "metadata": {},
   "outputs": [
    {
     "name": "stdout",
     "output_type": "stream",
     "text": [
      "1751611686.9953146\n"
     ]
    }
   ],
   "source": [
    "import time\n",
    "epoch=time.time()\n",
    "print(epoch)"
   ]
  },
  {
   "cell_type": "code",
   "execution_count": 32,
   "id": "381c4da3",
   "metadata": {},
   "outputs": [
    {
     "name": "stdout",
     "output_type": "stream",
     "text": [
      "Student, --f=c:\\Users\\pavan\\AppData\\Roaming\\jupyter\\runtime\\kernel-v32027f39262271cce6e095849a7257c741f6d92e7.json!\n"
     ]
    }
   ],
   "source": [
    "import sys\n",
    "if len(sys.argv)<2:\n",
    "    print(\"Usage: python hi.py <name>\")\n",
    "else:\n",
    "    name=sys.argv[1]\n",
    "    print(f\"Student, {name}!\")"
   ]
  },
  {
   "cell_type": "code",
   "execution_count": null,
   "id": "2268becb",
   "metadata": {},
   "outputs": [],
   "source": []
  }
 ],
 "metadata": {
  "kernelspec": {
   "display_name": "Python 3",
   "language": "python",
   "name": "python3"
  },
  "language_info": {
   "codemirror_mode": {
    "name": "ipython",
    "version": 3
   },
   "file_extension": ".py",
   "mimetype": "text/x-python",
   "name": "python",
   "nbconvert_exporter": "python",
   "pygments_lexer": "ipython3",
   "version": "3.11.4"
  }
 },
 "nbformat": 4,
 "nbformat_minor": 5
}
