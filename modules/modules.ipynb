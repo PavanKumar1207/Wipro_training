{
 "cells": [
  {
   "cell_type": "markdown",
   "id": "0a76f781",
   "metadata": {},
   "source": [
    "## PYTHON MODULES"
   ]
  },
  {
   "cell_type": "markdown",
   "id": "f95137b9",
   "metadata": {},
   "source": [
    "### math"
   ]
  },
  {
   "cell_type": "code",
   "execution_count": 1,
   "id": "d6dd47f0",
   "metadata": {},
   "outputs": [
    {
     "name": "stdout",
     "output_type": "stream",
     "text": [
      "Square root 2.23606797749979\n",
      "Factorial root 120\n",
      "Pi: 3.141592653589793\n",
      "Pi*2: 6.283185307179586\n"
     ]
    }
   ],
   "source": [
    "import math\n",
    "num = int(input(\"Enter number:\"))\n",
    "print(\"Square root\",math.sqrt(num))\n",
    "print(\"Factorial root\",math.factorial(num))\n",
    "print(\"Pi:\",math.pi)\n",
    "\n",
    "print(\"Pi*2:\",math.pi*2)"
   ]
  },
  {
   "cell_type": "markdown",
   "id": "018cfb23",
   "metadata": {},
   "source": [
    "### random"
   ]
  },
  {
   "cell_type": "code",
   "execution_count": 3,
   "id": "9068128f",
   "metadata": {},
   "outputs": [
    {
     "name": "stdout",
     "output_type": "stream",
     "text": [
      "3\n"
     ]
    }
   ],
   "source": [
    "import random\n",
    "print(random.randint(1,10))"
   ]
  },
  {
   "cell_type": "code",
   "execution_count": 4,
   "id": "d6a47d2c",
   "metadata": {},
   "outputs": [
    {
     "name": "stdout",
     "output_type": "stream",
     "text": [
      "0.5596479969793777\n"
     ]
    }
   ],
   "source": [
    "print(random.random())"
   ]
  },
  {
   "cell_type": "code",
   "execution_count": 8,
   "id": "8fce11ce",
   "metadata": {},
   "outputs": [
    {
     "name": "stdout",
     "output_type": "stream",
     "text": [
      "6.172696591399075\n"
     ]
    }
   ],
   "source": [
    "print(random.uniform(1,10))"
   ]
  },
  {
   "cell_type": "code",
   "execution_count": 17,
   "id": "7db4e6a8",
   "metadata": {},
   "outputs": [
    {
     "name": "stdout",
     "output_type": "stream",
     "text": [
      "1\n"
     ]
    }
   ],
   "source": [
    "print(random.choice([1,2,3,5,6,7]))"
   ]
  },
  {
   "cell_type": "code",
   "execution_count": 131,
   "id": "1e884ef4",
   "metadata": {},
   "outputs": [
    {
     "name": "stdout",
     "output_type": "stream",
     "text": [
      "['bravo', 'bravo']\n"
     ]
    }
   ],
   "source": [
    "print(random.choices([\"bravo\",\"shanmukh\",\"shannu\"], cum_weights=[0.95,0.05,0.05],k=2))"
   ]
  },
  {
   "cell_type": "code",
   "execution_count": 132,
   "id": "8dfbb5c4",
   "metadata": {},
   "outputs": [
    {
     "name": "stdout",
     "output_type": "stream",
     "text": [
      "before shuffle: [1, 2, 3, 4, 5, 6, 7, 8, 9]\n",
      "After shuffle: [1, 6, 9, 8, 2, 7, 5, 4, 3]\n"
     ]
    }
   ],
   "source": [
    "li=[i for i in range(1,10)]\n",
    "print(f'before shuffle: {li}')\n",
    "random.shuffle(li)\n",
    "print(f'After shuffle: {li}')"
   ]
  },
  {
   "cell_type": "markdown",
   "id": "766b5e37",
   "metadata": {},
   "source": [
    "### datetime"
   ]
  },
  {
   "cell_type": "code",
   "execution_count": 1,
   "id": "39f10af0",
   "metadata": {},
   "outputs": [
    {
     "name": "stdout",
     "output_type": "stream",
     "text": [
      "Current datetime 2025-06-30 11:44:37.270147\n"
     ]
    }
   ],
   "source": [
    "from datetime import datetime, date, timedelta\n",
    "\n",
    "now = datetime.now()\n",
    "print(\"Current datetime\",now)"
   ]
  },
  {
   "cell_type": "code",
   "execution_count": 2,
   "id": "7b0622fe",
   "metadata": {},
   "outputs": [
    {
     "name": "stdout",
     "output_type": "stream",
     "text": [
      "Today's date 2025-06-30\n"
     ]
    }
   ],
   "source": [
    "print(\"Today's date\",date.today())"
   ]
  },
  {
   "cell_type": "code",
   "execution_count": 3,
   "id": "51509380",
   "metadata": {},
   "outputs": [
    {
     "name": "stdout",
     "output_type": "stream",
     "text": [
      "Formatted datetime:  30-06-2025\n"
     ]
    }
   ],
   "source": [
    "formatted = now.strftime(\"%d-%m-%Y\")\n",
    "print(\"Formatted datetime: \", formatted)\n",
    "\n"
   ]
  },
  {
   "cell_type": "code",
   "execution_count": null,
   "id": "9064de49",
   "metadata": {},
   "outputs": [
    {
     "name": "stdout",
     "output_type": "stream",
     "text": [
      "Formatted datetime:  30-06-2025 11:44:37\n"
     ]
    }
   ],
   "source": [
    "formatted = now.strftime(\"%d-%m-%Y %H:%M:%S\")\n",
    "print(\"Formatted datetime: \", formatted)"
   ]
  },
  {
   "cell_type": "code",
   "execution_count": 9,
   "id": "81812433",
   "metadata": {},
   "outputs": [
    {
     "name": "stdout",
     "output_type": "stream",
     "text": [
      "Parsed data: 2000-12-24 12:33:43\n"
     ]
    }
   ],
   "source": [
    "date_str = \"24-12-2000 12:33:43\"\n",
    "parsed = datetime.strptime(date_str, \"%d-%m-%Y %H:%M:%S\")\n",
    "print(\"Parsed data:\",parsed)"
   ]
  },
  {
   "cell_type": "code",
   "execution_count": 11,
   "id": "e238522f",
   "metadata": {},
   "outputs": [
    {
     "name": "stdout",
     "output_type": "stream",
     "text": [
      "Tomorrow 2025-07-01 11:44:37.270147\n"
     ]
    }
   ],
   "source": [
    "tomorrow =  now+timedelta(days=1)\n",
    "print(\"Tomorrow\",tomorrow)"
   ]
  },
  {
   "cell_type": "code",
   "execution_count": 12,
   "id": "4c236bf8",
   "metadata": {},
   "outputs": [
    {
     "name": "stdout",
     "output_type": "stream",
     "text": [
      "Yesterday 2025-06-29 11:44:37.270147\n"
     ]
    }
   ],
   "source": [
    "yesterday = now-timedelta(days=1)\n",
    "print(\"Yesterday\",yesterday)"
   ]
  },
  {
   "cell_type": "code",
   "execution_count": 13,
   "id": "da5d63e6",
   "metadata": {},
   "outputs": [
    {
     "name": "stdout",
     "output_type": "stream",
     "text": [
      "After 3.5 hrs: 2025-06-30 15:14:37.270147\n"
     ]
    }
   ],
   "source": [
    "ftime = now+timedelta(hours=3,minutes=30)\n",
    "print(\"After 3.5 hrs:\",ftime)"
   ]
  },
  {
   "cell_type": "code",
   "execution_count": 20,
   "id": "9b5a2530",
   "metadata": {},
   "outputs": [
    {
     "name": "stdout",
     "output_type": "stream",
     "text": [
      "30 17 2025 15:17:42 PM\n"
     ]
    }
   ],
   "source": [
    "noww = datetime.now()+ timedelta(hours=3)\n",
    "format_hrs= noww.strftime(\"%d %M %Y %H:%M:%S %p\")\n",
    "print(format_hrs)"
   ]
  },
  {
   "cell_type": "markdown",
   "id": "a49a6738",
   "metadata": {},
   "source": [
    "### OS"
   ]
  },
  {
   "cell_type": "code",
   "execution_count": 1,
   "id": "5ab17201",
   "metadata": {},
   "outputs": [],
   "source": [
    "import os\n",
    "folder = input(\"Enter folder name to create\")\n",
    "if not os.path.exists(folder):\n",
    "    os.mkdir(folder)"
   ]
  },
  {
   "cell_type": "code",
   "execution_count": null,
   "id": "a43249ee",
   "metadata": {},
   "outputs": [],
   "source": []
  }
 ],
 "metadata": {
  "kernelspec": {
   "display_name": "Python 3",
   "language": "python",
   "name": "python3"
  },
  "language_info": {
   "codemirror_mode": {
    "name": "ipython",
    "version": 3
   },
   "file_extension": ".py",
   "mimetype": "text/x-python",
   "name": "python",
   "nbconvert_exporter": "python",
   "pygments_lexer": "ipython3",
   "version": "3.11.4"
  }
 },
 "nbformat": 4,
 "nbformat_minor": 5
}
